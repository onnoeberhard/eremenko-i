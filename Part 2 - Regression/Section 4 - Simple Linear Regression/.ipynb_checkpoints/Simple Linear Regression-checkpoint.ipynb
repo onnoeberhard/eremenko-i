{
 "cells": [
  {
   "cell_type": "markdown",
   "metadata": {},
   "source": [
    "# Importing the libraries"
   ]
  },
  {
   "cell_type": "code",
   "execution_count": 1,
   "metadata": {
    "collapsed": true
   },
   "outputs": [],
   "source": [
    "import numpy as np\n",
    "import matplotlib.pyplot as plt\n",
    "import pandas as pd"
   ]
  },
  {
   "cell_type": "markdown",
   "metadata": {},
   "source": [
    "# Importing the dataset"
   ]
  },
  {
   "cell_type": "code",
   "execution_count": 3,
   "metadata": {},
   "outputs": [
    {
     "data": {
      "text/html": [
       "<style  type=\"text/css\" >\n",
       "    #T_83678a9e_adb6_11e7_8671_d8d385958556row0_col0 {\n",
       "            background-color:  #fff7fb;\n",
       "        }    #T_83678a9e_adb6_11e7_8671_d8d385958556row0_col1 {\n",
       "            background-color:  #fdf5fa;\n",
       "        }    #T_83678a9e_adb6_11e7_8671_d8d385958556row1_col0 {\n",
       "            background-color:  #fcf4fa;\n",
       "        }    #T_83678a9e_adb6_11e7_8671_d8d385958556row1_col1 {\n",
       "            background-color:  #f0eaf4;\n",
       "        }    #T_83678a9e_adb6_11e7_8671_d8d385958556row2_col0 {\n",
       "            background-color:  #f9f2f8;\n",
       "        }    #T_83678a9e_adb6_11e7_8671_d8d385958556row2_col1 {\n",
       "            background-color:  #fff7fb;\n",
       "        }    #T_83678a9e_adb6_11e7_8671_d8d385958556row3_col0 {\n",
       "            background-color:  #f1ebf4;\n",
       "        }    #T_83678a9e_adb6_11e7_8671_d8d385958556row3_col1 {\n",
       "            background-color:  #f5eef6;\n",
       "        }    #T_83678a9e_adb6_11e7_8671_d8d385958556row4_col0 {\n",
       "            background-color:  #eee8f3;\n",
       "        }    #T_83678a9e_adb6_11e7_8671_d8d385958556row4_col1 {\n",
       "            background-color:  #fbf4f9;\n",
       "        }    #T_83678a9e_adb6_11e7_8671_d8d385958556row5_col0 {\n",
       "            background-color:  #dddbec;\n",
       "        }    #T_83678a9e_adb6_11e7_8671_d8d385958556row5_col1 {\n",
       "            background-color:  #d6d6e9;\n",
       "        }    #T_83678a9e_adb6_11e7_8671_d8d385958556row6_col0 {\n",
       "            background-color:  #dbdaeb;\n",
       "        }    #T_83678a9e_adb6_11e7_8671_d8d385958556row6_col1 {\n",
       "            background-color:  #cccfe5;\n",
       "        }    #T_83678a9e_adb6_11e7_8671_d8d385958556row7_col0 {\n",
       "            background-color:  #d6d6e9;\n",
       "        }    #T_83678a9e_adb6_11e7_8671_d8d385958556row7_col1 {\n",
       "            background-color:  #dcdaeb;\n",
       "        }    #T_83678a9e_adb6_11e7_8671_d8d385958556row8_col0 {\n",
       "            background-color:  #d6d6e9;\n",
       "        }    #T_83678a9e_adb6_11e7_8671_d8d385958556row8_col1 {\n",
       "            background-color:  #bbc7e0;\n",
       "        }    #T_83678a9e_adb6_11e7_8671_d8d385958556row9_col0 {\n",
       "            background-color:  #c8cde4;\n",
       "        }    #T_83678a9e_adb6_11e7_8671_d8d385958556row9_col1 {\n",
       "            background-color:  #d5d5e8;\n",
       "        }    #T_83678a9e_adb6_11e7_8671_d8d385958556row10_col0 {\n",
       "            background-color:  #c0c9e2;\n",
       "        }    #T_83678a9e_adb6_11e7_8671_d8d385958556row10_col1 {\n",
       "            background-color:  #bfc9e1;\n",
       "        }    #T_83678a9e_adb6_11e7_8671_d8d385958556row11_col0 {\n",
       "            background-color:  #bdc8e1;\n",
       "        }    #T_83678a9e_adb6_11e7_8671_d8d385958556row11_col1 {\n",
       "            background-color:  #d9d8ea;\n",
       "        }    #T_83678a9e_adb6_11e7_8671_d8d385958556row12_col0 {\n",
       "            background-color:  #bdc8e1;\n",
       "        }    #T_83678a9e_adb6_11e7_8671_d8d385958556row12_col1 {\n",
       "            background-color:  #d5d5e8;\n",
       "        }    #T_83678a9e_adb6_11e7_8671_d8d385958556row13_col0 {\n",
       "            background-color:  #b9c6e0;\n",
       "        }    #T_83678a9e_adb6_11e7_8671_d8d385958556row13_col1 {\n",
       "            background-color:  #d5d5e8;\n",
       "        }    #T_83678a9e_adb6_11e7_8671_d8d385958556row14_col0 {\n",
       "            background-color:  #abbfdc;\n",
       "        }    #T_83678a9e_adb6_11e7_8671_d8d385958556row14_col1 {\n",
       "            background-color:  #c8cde4;\n",
       "        }    #T_83678a9e_adb6_11e7_8671_d8d385958556row15_col0 {\n",
       "            background-color:  #9ab8d8;\n",
       "        }    #T_83678a9e_adb6_11e7_8671_d8d385958556row15_col1 {\n",
       "            background-color:  #acc0dd;\n",
       "        }    #T_83678a9e_adb6_11e7_8671_d8d385958556row16_col0 {\n",
       "            background-color:  #93b5d6;\n",
       "        }    #T_83678a9e_adb6_11e7_8671_d8d385958556row16_col1 {\n",
       "            background-color:  #b4c4df;\n",
       "        }    #T_83678a9e_adb6_11e7_8671_d8d385958556row17_col0 {\n",
       "            background-color:  #89b1d4;\n",
       "        }    #T_83678a9e_adb6_11e7_8671_d8d385958556row17_col1 {\n",
       "            background-color:  #62a2cb;\n",
       "        }    #T_83678a9e_adb6_11e7_8671_d8d385958556row18_col0 {\n",
       "            background-color:  #6fa7ce;\n",
       "        }    #T_83678a9e_adb6_11e7_8671_d8d385958556row18_col1 {\n",
       "            background-color:  #6da6cd;\n",
       "        }    #T_83678a9e_adb6_11e7_8671_d8d385958556row19_col0 {\n",
       "            background-color:  #69a5cc;\n",
       "        }    #T_83678a9e_adb6_11e7_8671_d8d385958556row19_col1 {\n",
       "            background-color:  #2786bb;\n",
       "        }    #T_83678a9e_adb6_11e7_8671_d8d385958556row20_col0 {\n",
       "            background-color:  #3f93c2;\n",
       "        }    #T_83678a9e_adb6_11e7_8671_d8d385958556row20_col1 {\n",
       "            background-color:  #308cbe;\n",
       "        }    #T_83678a9e_adb6_11e7_8671_d8d385958556row21_col0 {\n",
       "            background-color:  #308cbe;\n",
       "        }    #T_83678a9e_adb6_11e7_8671_d8d385958556row21_col1 {\n",
       "            background-color:  #1278b4;\n",
       "        }    #T_83678a9e_adb6_11e7_8671_d8d385958556row22_col0 {\n",
       "            background-color:  #0f76b3;\n",
       "        }    #T_83678a9e_adb6_11e7_8671_d8d385958556row22_col1 {\n",
       "            background-color:  #056faf;\n",
       "        }    #T_83678a9e_adb6_11e7_8671_d8d385958556row23_col0 {\n",
       "            background-color:  #056fae;\n",
       "        }    #T_83678a9e_adb6_11e7_8671_d8d385958556row23_col1 {\n",
       "            background-color:  #045382;\n",
       "        }    #T_83678a9e_adb6_11e7_8671_d8d385958556row24_col0 {\n",
       "            background-color:  #0566a0;\n",
       "        }    #T_83678a9e_adb6_11e7_8671_d8d385958556row24_col1 {\n",
       "            background-color:  #045f95;\n",
       "        }    #T_83678a9e_adb6_11e7_8671_d8d385958556row25_col0 {\n",
       "            background-color:  #046096;\n",
       "        }    #T_83678a9e_adb6_11e7_8671_d8d385958556row25_col1 {\n",
       "            background-color:  #0567a1;\n",
       "        }    #T_83678a9e_adb6_11e7_8671_d8d385958556row26_col0 {\n",
       "            background-color:  #045585;\n",
       "        }    #T_83678a9e_adb6_11e7_8671_d8d385958556row26_col1 {\n",
       "            background-color:  #034973;\n",
       "        }    #T_83678a9e_adb6_11e7_8671_d8d385958556row27_col0 {\n",
       "            background-color:  #045280;\n",
       "        }    #T_83678a9e_adb6_11e7_8671_d8d385958556row27_col1 {\n",
       "            background-color:  #045788;\n",
       "        }    #T_83678a9e_adb6_11e7_8671_d8d385958556row28_col0 {\n",
       "            background-color:  #023d60;\n",
       "        }    #T_83678a9e_adb6_11e7_8671_d8d385958556row28_col1 {\n",
       "            background-color:  #023858;\n",
       "        }    #T_83678a9e_adb6_11e7_8671_d8d385958556row29_col0 {\n",
       "            background-color:  #023858;\n",
       "        }    #T_83678a9e_adb6_11e7_8671_d8d385958556row29_col1 {\n",
       "            background-color:  #02395a;\n",
       "        }</style>  \n",
       "<table id=\"T_83678a9e_adb6_11e7_8671_d8d385958556\" > \n",
       "<thead>    <tr> \n",
       "        <th class=\"blank level0\" ></th> \n",
       "        <th class=\"col_heading level0 col0\" >YearsExperience</th> \n",
       "        <th class=\"col_heading level0 col1\" >Salary</th> \n",
       "    </tr></thead> \n",
       "<tbody>    <tr> \n",
       "        <th id=\"T_83678a9e_adb6_11e7_8671_d8d385958556level0_row0\" class=\"row_heading level0 row0\" >0</th> \n",
       "        <td id=\"T_83678a9e_adb6_11e7_8671_d8d385958556row0_col0\" class=\"data row0 col0\" >1.1</td> \n",
       "        <td id=\"T_83678a9e_adb6_11e7_8671_d8d385958556row0_col1\" class=\"data row0 col1\" >39343</td> \n",
       "    </tr>    <tr> \n",
       "        <th id=\"T_83678a9e_adb6_11e7_8671_d8d385958556level0_row1\" class=\"row_heading level0 row1\" >1</th> \n",
       "        <td id=\"T_83678a9e_adb6_11e7_8671_d8d385958556row1_col0\" class=\"data row1 col0\" >1.3</td> \n",
       "        <td id=\"T_83678a9e_adb6_11e7_8671_d8d385958556row1_col1\" class=\"data row1 col1\" >46205</td> \n",
       "    </tr>    <tr> \n",
       "        <th id=\"T_83678a9e_adb6_11e7_8671_d8d385958556level0_row2\" class=\"row_heading level0 row2\" >2</th> \n",
       "        <td id=\"T_83678a9e_adb6_11e7_8671_d8d385958556row2_col0\" class=\"data row2 col0\" >1.5</td> \n",
       "        <td id=\"T_83678a9e_adb6_11e7_8671_d8d385958556row2_col1\" class=\"data row2 col1\" >37731</td> \n",
       "    </tr>    <tr> \n",
       "        <th id=\"T_83678a9e_adb6_11e7_8671_d8d385958556level0_row3\" class=\"row_heading level0 row3\" >3</th> \n",
       "        <td id=\"T_83678a9e_adb6_11e7_8671_d8d385958556row3_col0\" class=\"data row3 col0\" >2</td> \n",
       "        <td id=\"T_83678a9e_adb6_11e7_8671_d8d385958556row3_col1\" class=\"data row3 col1\" >43525</td> \n",
       "    </tr>    <tr> \n",
       "        <th id=\"T_83678a9e_adb6_11e7_8671_d8d385958556level0_row4\" class=\"row_heading level0 row4\" >4</th> \n",
       "        <td id=\"T_83678a9e_adb6_11e7_8671_d8d385958556row4_col0\" class=\"data row4 col0\" >2.2</td> \n",
       "        <td id=\"T_83678a9e_adb6_11e7_8671_d8d385958556row4_col1\" class=\"data row4 col1\" >39891</td> \n",
       "    </tr>    <tr> \n",
       "        <th id=\"T_83678a9e_adb6_11e7_8671_d8d385958556level0_row5\" class=\"row_heading level0 row5\" >5</th> \n",
       "        <td id=\"T_83678a9e_adb6_11e7_8671_d8d385958556row5_col0\" class=\"data row5 col0\" >2.9</td> \n",
       "        <td id=\"T_83678a9e_adb6_11e7_8671_d8d385958556row5_col1\" class=\"data row5 col1\" >56642</td> \n",
       "    </tr>    <tr> \n",
       "        <th id=\"T_83678a9e_adb6_11e7_8671_d8d385958556level0_row6\" class=\"row_heading level0 row6\" >6</th> \n",
       "        <td id=\"T_83678a9e_adb6_11e7_8671_d8d385958556row6_col0\" class=\"data row6 col0\" >3</td> \n",
       "        <td id=\"T_83678a9e_adb6_11e7_8671_d8d385958556row6_col1\" class=\"data row6 col1\" >60150</td> \n",
       "    </tr>    <tr> \n",
       "        <th id=\"T_83678a9e_adb6_11e7_8671_d8d385958556level0_row7\" class=\"row_heading level0 row7\" >7</th> \n",
       "        <td id=\"T_83678a9e_adb6_11e7_8671_d8d385958556row7_col0\" class=\"data row7 col0\" >3.2</td> \n",
       "        <td id=\"T_83678a9e_adb6_11e7_8671_d8d385958556row7_col1\" class=\"data row7 col1\" >54445</td> \n",
       "    </tr>    <tr> \n",
       "        <th id=\"T_83678a9e_adb6_11e7_8671_d8d385958556level0_row8\" class=\"row_heading level0 row8\" >8</th> \n",
       "        <td id=\"T_83678a9e_adb6_11e7_8671_d8d385958556row8_col0\" class=\"data row8 col0\" >3.2</td> \n",
       "        <td id=\"T_83678a9e_adb6_11e7_8671_d8d385958556row8_col1\" class=\"data row8 col1\" >64445</td> \n",
       "    </tr>    <tr> \n",
       "        <th id=\"T_83678a9e_adb6_11e7_8671_d8d385958556level0_row9\" class=\"row_heading level0 row9\" >9</th> \n",
       "        <td id=\"T_83678a9e_adb6_11e7_8671_d8d385958556row9_col0\" class=\"data row9 col0\" >3.7</td> \n",
       "        <td id=\"T_83678a9e_adb6_11e7_8671_d8d385958556row9_col1\" class=\"data row9 col1\" >57189</td> \n",
       "    </tr>    <tr> \n",
       "        <th id=\"T_83678a9e_adb6_11e7_8671_d8d385958556level0_row10\" class=\"row_heading level0 row10\" >10</th> \n",
       "        <td id=\"T_83678a9e_adb6_11e7_8671_d8d385958556row10_col0\" class=\"data row10 col0\" >3.9</td> \n",
       "        <td id=\"T_83678a9e_adb6_11e7_8671_d8d385958556row10_col1\" class=\"data row10 col1\" >63218</td> \n",
       "    </tr>    <tr> \n",
       "        <th id=\"T_83678a9e_adb6_11e7_8671_d8d385958556level0_row11\" class=\"row_heading level0 row11\" >11</th> \n",
       "        <td id=\"T_83678a9e_adb6_11e7_8671_d8d385958556row11_col0\" class=\"data row11 col0\" >4</td> \n",
       "        <td id=\"T_83678a9e_adb6_11e7_8671_d8d385958556row11_col1\" class=\"data row11 col1\" >55794</td> \n",
       "    </tr>    <tr> \n",
       "        <th id=\"T_83678a9e_adb6_11e7_8671_d8d385958556level0_row12\" class=\"row_heading level0 row12\" >12</th> \n",
       "        <td id=\"T_83678a9e_adb6_11e7_8671_d8d385958556row12_col0\" class=\"data row12 col0\" >4</td> \n",
       "        <td id=\"T_83678a9e_adb6_11e7_8671_d8d385958556row12_col1\" class=\"data row12 col1\" >56957</td> \n",
       "    </tr>    <tr> \n",
       "        <th id=\"T_83678a9e_adb6_11e7_8671_d8d385958556level0_row13\" class=\"row_heading level0 row13\" >13</th> \n",
       "        <td id=\"T_83678a9e_adb6_11e7_8671_d8d385958556row13_col0\" class=\"data row13 col0\" >4.1</td> \n",
       "        <td id=\"T_83678a9e_adb6_11e7_8671_d8d385958556row13_col1\" class=\"data row13 col1\" >57081</td> \n",
       "    </tr>    <tr> \n",
       "        <th id=\"T_83678a9e_adb6_11e7_8671_d8d385958556level0_row14\" class=\"row_heading level0 row14\" >14</th> \n",
       "        <td id=\"T_83678a9e_adb6_11e7_8671_d8d385958556row14_col0\" class=\"data row14 col0\" >4.5</td> \n",
       "        <td id=\"T_83678a9e_adb6_11e7_8671_d8d385958556row14_col1\" class=\"data row14 col1\" >61111</td> \n",
       "    </tr>    <tr> \n",
       "        <th id=\"T_83678a9e_adb6_11e7_8671_d8d385958556level0_row15\" class=\"row_heading level0 row15\" >15</th> \n",
       "        <td id=\"T_83678a9e_adb6_11e7_8671_d8d385958556row15_col0\" class=\"data row15 col0\" >4.9</td> \n",
       "        <td id=\"T_83678a9e_adb6_11e7_8671_d8d385958556row15_col1\" class=\"data row15 col1\" >67938</td> \n",
       "    </tr>    <tr> \n",
       "        <th id=\"T_83678a9e_adb6_11e7_8671_d8d385958556level0_row16\" class=\"row_heading level0 row16\" >16</th> \n",
       "        <td id=\"T_83678a9e_adb6_11e7_8671_d8d385958556row16_col0\" class=\"data row16 col0\" >5.1</td> \n",
       "        <td id=\"T_83678a9e_adb6_11e7_8671_d8d385958556row16_col1\" class=\"data row16 col1\" >66029</td> \n",
       "    </tr>    <tr> \n",
       "        <th id=\"T_83678a9e_adb6_11e7_8671_d8d385958556level0_row17\" class=\"row_heading level0 row17\" >17</th> \n",
       "        <td id=\"T_83678a9e_adb6_11e7_8671_d8d385958556row17_col0\" class=\"data row17 col0\" >5.3</td> \n",
       "        <td id=\"T_83678a9e_adb6_11e7_8671_d8d385958556row17_col1\" class=\"data row17 col1\" >83088</td> \n",
       "    </tr>    <tr> \n",
       "        <th id=\"T_83678a9e_adb6_11e7_8671_d8d385958556level0_row18\" class=\"row_heading level0 row18\" >18</th> \n",
       "        <td id=\"T_83678a9e_adb6_11e7_8671_d8d385958556row18_col0\" class=\"data row18 col0\" >5.9</td> \n",
       "        <td id=\"T_83678a9e_adb6_11e7_8671_d8d385958556row18_col1\" class=\"data row18 col1\" >81363</td> \n",
       "    </tr>    <tr> \n",
       "        <th id=\"T_83678a9e_adb6_11e7_8671_d8d385958556level0_row19\" class=\"row_heading level0 row19\" >19</th> \n",
       "        <td id=\"T_83678a9e_adb6_11e7_8671_d8d385958556row19_col0\" class=\"data row19 col0\" >6</td> \n",
       "        <td id=\"T_83678a9e_adb6_11e7_8671_d8d385958556row19_col1\" class=\"data row19 col1\" >93940</td> \n",
       "    </tr>    <tr> \n",
       "        <th id=\"T_83678a9e_adb6_11e7_8671_d8d385958556level0_row20\" class=\"row_heading level0 row20\" >20</th> \n",
       "        <td id=\"T_83678a9e_adb6_11e7_8671_d8d385958556row20_col0\" class=\"data row20 col0\" >6.8</td> \n",
       "        <td id=\"T_83678a9e_adb6_11e7_8671_d8d385958556row20_col1\" class=\"data row20 col1\" >91738</td> \n",
       "    </tr>    <tr> \n",
       "        <th id=\"T_83678a9e_adb6_11e7_8671_d8d385958556level0_row21\" class=\"row_heading level0 row21\" >21</th> \n",
       "        <td id=\"T_83678a9e_adb6_11e7_8671_d8d385958556row21_col0\" class=\"data row21 col0\" >7.1</td> \n",
       "        <td id=\"T_83678a9e_adb6_11e7_8671_d8d385958556row21_col1\" class=\"data row21 col1\" >98273</td> \n",
       "    </tr>    <tr> \n",
       "        <th id=\"T_83678a9e_adb6_11e7_8671_d8d385958556level0_row22\" class=\"row_heading level0 row22\" >22</th> \n",
       "        <td id=\"T_83678a9e_adb6_11e7_8671_d8d385958556row22_col0\" class=\"data row22 col0\" >7.9</td> \n",
       "        <td id=\"T_83678a9e_adb6_11e7_8671_d8d385958556row22_col1\" class=\"data row22 col1\" >101302</td> \n",
       "    </tr>    <tr> \n",
       "        <th id=\"T_83678a9e_adb6_11e7_8671_d8d385958556level0_row23\" class=\"row_heading level0 row23\" >23</th> \n",
       "        <td id=\"T_83678a9e_adb6_11e7_8671_d8d385958556row23_col0\" class=\"data row23 col0\" >8.2</td> \n",
       "        <td id=\"T_83678a9e_adb6_11e7_8671_d8d385958556row23_col1\" class=\"data row23 col1\" >113812</td> \n",
       "    </tr>    <tr> \n",
       "        <th id=\"T_83678a9e_adb6_11e7_8671_d8d385958556level0_row24\" class=\"row_heading level0 row24\" >24</th> \n",
       "        <td id=\"T_83678a9e_adb6_11e7_8671_d8d385958556row24_col0\" class=\"data row24 col0\" >8.7</td> \n",
       "        <td id=\"T_83678a9e_adb6_11e7_8671_d8d385958556row24_col1\" class=\"data row24 col1\" >109431</td> \n",
       "    </tr>    <tr> \n",
       "        <th id=\"T_83678a9e_adb6_11e7_8671_d8d385958556level0_row25\" class=\"row_heading level0 row25\" >25</th> \n",
       "        <td id=\"T_83678a9e_adb6_11e7_8671_d8d385958556row25_col0\" class=\"data row25 col0\" >9</td> \n",
       "        <td id=\"T_83678a9e_adb6_11e7_8671_d8d385958556row25_col1\" class=\"data row25 col1\" >105582</td> \n",
       "    </tr>    <tr> \n",
       "        <th id=\"T_83678a9e_adb6_11e7_8671_d8d385958556level0_row26\" class=\"row_heading level0 row26\" >26</th> \n",
       "        <td id=\"T_83678a9e_adb6_11e7_8671_d8d385958556row26_col0\" class=\"data row26 col0\" >9.5</td> \n",
       "        <td id=\"T_83678a9e_adb6_11e7_8671_d8d385958556row26_col1\" class=\"data row26 col1\" >116969</td> \n",
       "    </tr>    <tr> \n",
       "        <th id=\"T_83678a9e_adb6_11e7_8671_d8d385958556level0_row27\" class=\"row_heading level0 row27\" >27</th> \n",
       "        <td id=\"T_83678a9e_adb6_11e7_8671_d8d385958556row27_col0\" class=\"data row27 col0\" >9.6</td> \n",
       "        <td id=\"T_83678a9e_adb6_11e7_8671_d8d385958556row27_col1\" class=\"data row27 col1\" >112635</td> \n",
       "    </tr>    <tr> \n",
       "        <th id=\"T_83678a9e_adb6_11e7_8671_d8d385958556level0_row28\" class=\"row_heading level0 row28\" >28</th> \n",
       "        <td id=\"T_83678a9e_adb6_11e7_8671_d8d385958556row28_col0\" class=\"data row28 col0\" >10.3</td> \n",
       "        <td id=\"T_83678a9e_adb6_11e7_8671_d8d385958556row28_col1\" class=\"data row28 col1\" >122391</td> \n",
       "    </tr>    <tr> \n",
       "        <th id=\"T_83678a9e_adb6_11e7_8671_d8d385958556level0_row29\" class=\"row_heading level0 row29\" >29</th> \n",
       "        <td id=\"T_83678a9e_adb6_11e7_8671_d8d385958556row29_col0\" class=\"data row29 col0\" >10.5</td> \n",
       "        <td id=\"T_83678a9e_adb6_11e7_8671_d8d385958556row29_col1\" class=\"data row29 col1\" >121872</td> \n",
       "    </tr></tbody> \n",
       "</table> "
      ],
      "text/plain": [
       "<pandas.io.formats.style.Styler at 0xb556d68>"
      ]
     },
     "execution_count": 3,
     "metadata": {},
     "output_type": "execute_result"
    }
   ],
   "source": [
    "dataset = pd.read_csv('Salary_Data.csv')\n",
    "X = dataset.iloc[:, :-1].values\n",
    "y = dataset.iloc[:, -1:].values.ravel() # oder auch y = dataset.iloc[:, len(dataset.axes[1]) - 1].values -- ravel() unwraps die matrix in einen 1d array.\n",
    "\n",
    "dataset.style.background_gradient()"
   ]
  },
  {
   "cell_type": "markdown",
   "metadata": {},
   "source": [
    "# Splitting the dataset into the Training set and Test set"
   ]
  },
  {
   "cell_type": "code",
   "execution_count": 4,
   "metadata": {
    "collapsed": true
   },
   "outputs": [],
   "source": [
    "from sklearn.model_selection import train_test_split\n",
    "X_train, X_test, y_train, y_test = train_test_split(X, y, test_size = 1/3, random_state = 0)    # r_s = 0: not random!"
   ]
  },
  {
   "cell_type": "markdown",
   "metadata": {},
   "source": [
    "# Fitting Simple Linear Regression to the Training set"
   ]
  },
  {
   "cell_type": "code",
   "execution_count": 5,
   "metadata": {},
   "outputs": [
    {
     "data": {
      "text/plain": [
       "LinearRegression(copy_X=True, fit_intercept=True, n_jobs=1, normalize=False)"
      ]
     },
     "execution_count": 5,
     "metadata": {},
     "output_type": "execute_result"
    }
   ],
   "source": [
    "from sklearn.linear_model import LinearRegression\n",
    "regressor = LinearRegression()\n",
    "regressor.fit(X_train, y_train)"
   ]
  },
  {
   "cell_type": "markdown",
   "metadata": {},
   "source": [
    "# Predicting the Test set results"
   ]
  },
  {
   "cell_type": "code",
   "execution_count": 7,
   "metadata": {},
   "outputs": [
    {
     "data": {
      "text/plain": [
       "21026037.329511303"
      ]
     },
     "execution_count": 7,
     "metadata": {},
     "output_type": "execute_result"
    }
   ],
   "source": [
    "y_pred = regressor.predict(X_test)\n",
    "\n",
    "J = 1 / len(y_test) * sum((y_test - y_pred)**2)    # error\n",
    "J"
   ]
  },
  {
   "cell_type": "markdown",
   "metadata": {},
   "source": [
    "# Visualising the Training set results"
   ]
  },
  {
   "cell_type": "code",
   "execution_count": 10,
   "metadata": {},
   "outputs": [
    {
     "data": {
      "image/png": "[encoded data removed]",
      "text/plain": [
       "<matplotlib.figure.Figure at 0xd6ce4a8>"
      ]
     },
     "metadata": {},
     "output_type": "display_data"
    }
   ],
   "source": [
    "xax = np.linspace(min(X_train) - 1, max(X_train) + 1).reshape(-1, 1)\n",
    "plt.scatter(X_train, y_train, color = 'red')\n",
    "plt.plot(xax, regressor.predict(xax), color = 'blue')\n",
    "plt.title('Salary vs Experience (Training set)')\n",
    "plt.xlabel('Years of Experience')\n",
    "plt.ylabel('Salary')\n",
    "plt.show()"
   ]
  },
  {
   "cell_type": "markdown",
   "metadata": {},
   "source": [
    "# Visualising the Test set results"
   ]
  },
  {
   "cell_type": "code",
   "execution_count": 12,
   "metadata": {},
   "outputs": [
    {
     "data": {
      "image/png": "[encoded data removed]",
      "text/plain": [
       "<matplotlib.figure.Figure at 0xdc07160>"
      ]
     },
     "metadata": {},
     "output_type": "display_data"
    }
   ],
   "source": [
    "xax = np.linspace(min(X_test) - 1, max(X_test) + 1).reshape(-1, 1)\n",
    "plt.scatter(X_test, y_test, color = 'red')\n",
    "plt.plot(xax, regressor.predict(xax), color = 'blue')        # ob x-train oder test oder linspace etc ist egal, geht ja nur um die funktion. ich finde hier aber x-test besser, weil es ja sein könnte, dass die range nicht ganz gleich ist..\n",
    "plt.title('Salary vs Experience (Test set)')\n",
    "plt.xlabel('Years of Experience')\n",
    "plt.ylabel('Salary')\n",
    "plt.show()"
   ]
  }
 ],
 "metadata": {
  "kernelspec": {
   "display_name": "Python 3",
   "language": "python",
   "name": "python3"
  },
  "language_info": {
   "codemirror_mode": {
    "name": "ipython",
    "version": 3
   },
   "file_extension": ".py",
   "mimetype": "text/x-python",
   "name": "python",
   "nbconvert_exporter": "python",
   "pygments_lexer": "ipython3",
   "version": "3.6.2"
  }
 },
 "nbformat": 4,
 "nbformat_minor": 2
}
