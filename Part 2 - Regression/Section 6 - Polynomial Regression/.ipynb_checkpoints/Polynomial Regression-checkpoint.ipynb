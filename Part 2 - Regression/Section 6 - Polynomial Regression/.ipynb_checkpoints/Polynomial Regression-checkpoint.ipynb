{
 "cells": [
  {
   "cell_type": "markdown",
   "metadata": {},
   "source": [
    "# Data Preprocessing"
   ]
  },
  {
   "cell_type": "code",
   "execution_count": 11,
   "metadata": {},
   "outputs": [
    {
     "data": {
      "text/html": [
       "<style  type=\"text/css\" >\n",
       "    #T_d6cc0638_d68c_11e7_8650_d8d385958556row0_col1 {\n",
       "            background-color:  #fff7fb;\n",
       "        }    #T_d6cc0638_d68c_11e7_8650_d8d385958556row0_col2 {\n",
       "            background-color:  #fff7fb;\n",
       "        }    #T_d6cc0638_d68c_11e7_8650_d8d385958556row1_col1 {\n",
       "            background-color:  #eee9f3;\n",
       "        }    #T_d6cc0638_d68c_11e7_8650_d8d385958556row1_col2 {\n",
       "            background-color:  #fef6fb;\n",
       "        }    #T_d6cc0638_d68c_11e7_8650_d8d385958556row2_col1 {\n",
       "            background-color:  #d7d6e9;\n",
       "        }    #T_d6cc0638_d68c_11e7_8650_d8d385958556row2_col2 {\n",
       "            background-color:  #fdf5fa;\n",
       "        }    #T_d6cc0638_d68c_11e7_8650_d8d385958556row3_col1 {\n",
       "            background-color:  #b4c4df;\n",
       "        }    #T_d6cc0638_d68c_11e7_8650_d8d385958556row3_col2 {\n",
       "            background-color:  #faf2f8;\n",
       "        }    #T_d6cc0638_d68c_11e7_8650_d8d385958556row4_col1 {\n",
       "            background-color:  #8bb2d4;\n",
       "        }    #T_d6cc0638_d68c_11e7_8650_d8d385958556row4_col2 {\n",
       "            background-color:  #f5eef6;\n",
       "        }    #T_d6cc0638_d68c_11e7_8650_d8d385958556row5_col1 {\n",
       "            background-color:  #589ec8;\n",
       "        }    #T_d6cc0638_d68c_11e7_8650_d8d385958556row5_col2 {\n",
       "            background-color:  #eee9f3;\n",
       "        }    #T_d6cc0638_d68c_11e7_8650_d8d385958556row6_col1 {\n",
       "            background-color:  #2685bb;\n",
       "        }    #T_d6cc0638_d68c_11e7_8650_d8d385958556row6_col2 {\n",
       "            background-color:  #e4e1ef;\n",
       "        }    #T_d6cc0638_d68c_11e7_8650_d8d385958556row7_col1 {\n",
       "            background-color:  #056ba7;\n",
       "        }    #T_d6cc0638_d68c_11e7_8650_d8d385958556row7_col2 {\n",
       "            background-color:  #cacee5;\n",
       "        }    #T_d6cc0638_d68c_11e7_8650_d8d385958556row8_col1 {\n",
       "            background-color:  #045687;\n",
       "        }    #T_d6cc0638_d68c_11e7_8650_d8d385958556row8_col2 {\n",
       "            background-color:  #7eadd1;\n",
       "        }    #T_d6cc0638_d68c_11e7_8650_d8d385958556row9_col1 {\n",
       "            background-color:  #023858;\n",
       "        }    #T_d6cc0638_d68c_11e7_8650_d8d385958556row9_col2 {\n",
       "            background-color:  #023858;\n",
       "        }</style>  \n",
       "<table id=\"T_d6cc0638_d68c_11e7_8650_d8d385958556\" > \n",
       "<thead>    <tr> \n",
       "        <th class=\"blank level0\" ></th> \n",
       "        <th class=\"col_heading level0 col0\" >Position</th> \n",
       "        <th class=\"col_heading level0 col1\" >Level</th> \n",
       "        <th class=\"col_heading level0 col2\" >Salary</th> \n",
       "    </tr></thead> \n",
       "<tbody>    <tr> \n",
       "        <th id=\"T_d6cc0638_d68c_11e7_8650_d8d385958556level0_row0\" class=\"row_heading level0 row0\" >0</th> \n",
       "        <td id=\"T_d6cc0638_d68c_11e7_8650_d8d385958556row0_col0\" class=\"data row0 col0\" >Business Analyst</td> \n",
       "        <td id=\"T_d6cc0638_d68c_11e7_8650_d8d385958556row0_col1\" class=\"data row0 col1\" >1</td> \n",
       "        <td id=\"T_d6cc0638_d68c_11e7_8650_d8d385958556row0_col2\" class=\"data row0 col2\" >45000</td> \n",
       "    </tr>    <tr> \n",
       "        <th id=\"T_d6cc0638_d68c_11e7_8650_d8d385958556level0_row1\" class=\"row_heading level0 row1\" >1</th> \n",
       "        <td id=\"T_d6cc0638_d68c_11e7_8650_d8d385958556row1_col0\" class=\"data row1 col0\" >Junior Consultant</td> \n",
       "        <td id=\"T_d6cc0638_d68c_11e7_8650_d8d385958556row1_col1\" class=\"data row1 col1\" >2</td> \n",
       "        <td id=\"T_d6cc0638_d68c_11e7_8650_d8d385958556row1_col2\" class=\"data row1 col2\" >50000</td> \n",
       "    </tr>    <tr> \n",
       "        <th id=\"T_d6cc0638_d68c_11e7_8650_d8d385958556level0_row2\" class=\"row_heading level0 row2\" >2</th> \n",
       "        <td id=\"T_d6cc0638_d68c_11e7_8650_d8d385958556row2_col0\" class=\"data row2 col0\" >Senior Consultant</td> \n",
       "        <td id=\"T_d6cc0638_d68c_11e7_8650_d8d385958556row2_col1\" class=\"data row2 col1\" >3</td> \n",
       "        <td id=\"T_d6cc0638_d68c_11e7_8650_d8d385958556row2_col2\" class=\"data row2 col2\" >60000</td> \n",
       "    </tr>    <tr> \n",
       "        <th id=\"T_d6cc0638_d68c_11e7_8650_d8d385958556level0_row3\" class=\"row_heading level0 row3\" >3</th> \n",
       "        <td id=\"T_d6cc0638_d68c_11e7_8650_d8d385958556row3_col0\" class=\"data row3 col0\" >Manager</td> \n",
       "        <td id=\"T_d6cc0638_d68c_11e7_8650_d8d385958556row3_col1\" class=\"data row3 col1\" >4</td> \n",
       "        <td id=\"T_d6cc0638_d68c_11e7_8650_d8d385958556row3_col2\" class=\"data row3 col2\" >80000</td> \n",
       "    </tr>    <tr> \n",
       "        <th id=\"T_d6cc0638_d68c_11e7_8650_d8d385958556level0_row4\" class=\"row_heading level0 row4\" >4</th> \n",
       "        <td id=\"T_d6cc0638_d68c_11e7_8650_d8d385958556row4_col0\" class=\"data row4 col0\" >Country Manager</td> \n",
       "        <td id=\"T_d6cc0638_d68c_11e7_8650_d8d385958556row4_col1\" class=\"data row4 col1\" >5</td> \n",
       "        <td id=\"T_d6cc0638_d68c_11e7_8650_d8d385958556row4_col2\" class=\"data row4 col2\" >110000</td> \n",
       "    </tr>    <tr> \n",
       "        <th id=\"T_d6cc0638_d68c_11e7_8650_d8d385958556level0_row5\" class=\"row_heading level0 row5\" >5</th> \n",
       "        <td id=\"T_d6cc0638_d68c_11e7_8650_d8d385958556row5_col0\" class=\"data row5 col0\" >Region Manager</td> \n",
       "        <td id=\"T_d6cc0638_d68c_11e7_8650_d8d385958556row5_col1\" class=\"data row5 col1\" >6</td> \n",
       "        <td id=\"T_d6cc0638_d68c_11e7_8650_d8d385958556row5_col2\" class=\"data row5 col2\" >150000</td> \n",
       "    </tr>    <tr> \n",
       "        <th id=\"T_d6cc0638_d68c_11e7_8650_d8d385958556level0_row6\" class=\"row_heading level0 row6\" >6</th> \n",
       "        <td id=\"T_d6cc0638_d68c_11e7_8650_d8d385958556row6_col0\" class=\"data row6 col0\" >Partner</td> \n",
       "        <td id=\"T_d6cc0638_d68c_11e7_8650_d8d385958556row6_col1\" class=\"data row6 col1\" >7</td> \n",
       "        <td id=\"T_d6cc0638_d68c_11e7_8650_d8d385958556row6_col2\" class=\"data row6 col2\" >200000</td> \n",
       "    </tr>    <tr> \n",
       "        <th id=\"T_d6cc0638_d68c_11e7_8650_d8d385958556level0_row7\" class=\"row_heading level0 row7\" >7</th> \n",
       "        <td id=\"T_d6cc0638_d68c_11e7_8650_d8d385958556row7_col0\" class=\"data row7 col0\" >Senior Partner</td> \n",
       "        <td id=\"T_d6cc0638_d68c_11e7_8650_d8d385958556row7_col1\" class=\"data row7 col1\" >8</td> \n",
       "        <td id=\"T_d6cc0638_d68c_11e7_8650_d8d385958556row7_col2\" class=\"data row7 col2\" >300000</td> \n",
       "    </tr>    <tr> \n",
       "        <th id=\"T_d6cc0638_d68c_11e7_8650_d8d385958556level0_row8\" class=\"row_heading level0 row8\" >8</th> \n",
       "        <td id=\"T_d6cc0638_d68c_11e7_8650_d8d385958556row8_col0\" class=\"data row8 col0\" >C-level</td> \n",
       "        <td id=\"T_d6cc0638_d68c_11e7_8650_d8d385958556row8_col1\" class=\"data row8 col1\" >9</td> \n",
       "        <td id=\"T_d6cc0638_d68c_11e7_8650_d8d385958556row8_col2\" class=\"data row8 col2\" >500000</td> \n",
       "    </tr>    <tr> \n",
       "        <th id=\"T_d6cc0638_d68c_11e7_8650_d8d385958556level0_row9\" class=\"row_heading level0 row9\" >9</th> \n",
       "        <td id=\"T_d6cc0638_d68c_11e7_8650_d8d385958556row9_col0\" class=\"data row9 col0\" >CEO</td> \n",
       "        <td id=\"T_d6cc0638_d68c_11e7_8650_d8d385958556row9_col1\" class=\"data row9 col1\" >10</td> \n",
       "        <td id=\"T_d6cc0638_d68c_11e7_8650_d8d385958556row9_col2\" class=\"data row9 col2\" >1000000</td> \n",
       "    </tr></tbody> \n",
       "</table> "
      ],
      "text/plain": [
       "<pandas.io.formats.style.Styler at 0xcfe9b70>"
      ]
     },
     "execution_count": 11,
     "metadata": {},
     "output_type": "execute_result"
    }
   ],
   "source": [
    "# Importing the libraries\n",
    "import numpy as np\n",
    "import matplotlib.pyplot as plt\n",
    "import pandas as pd\n",
    "\n",
    "# Importing the dataset\n",
    "dataset = pd.read_csv('Position_Salaries.csv')\n",
    "X = dataset.iloc[:, 1:2].values\n",
    "y = dataset.iloc[:, -1].values\n",
    "\n",
    "# Splitting the dataset into the Training set and Test set\n",
    "\"\"\"from sklearn.cross_validation import train_test_split\n",
    "X_train, X_test, y_train, y_test = train_test_split(X, y, test_size = 0.2, random_state = 0)\"\"\"\n",
    "\n",
    "# Feature Scaling\n",
    "\"\"\"from sklearn.preprocessing import StandardScaler\n",
    "sc_X = StandardScaler()\n",
    "X_train = sc_X.fit_transform(X_train)\n",
    "X_test = sc_X.transform(X_test)\n",
    "sc_y = StandardScaler()\n",
    "y_train = sc_y.fit_transform(y_train)\"\"\"\n",
    "\n",
    "dataset.style.background_gradient()"
   ]
  },
  {
   "cell_type": "markdown",
   "metadata": {},
   "source": [
    "# Fitting linear regression to the dataset"
   ]
  },
  {
   "cell_type": "code",
   "execution_count": 12,
   "metadata": {},
   "outputs": [
    {
     "data": {
      "text/plain": [
       "LinearRegression(copy_X=True, fit_intercept=True, n_jobs=1, normalize=False)"
      ]
     },
     "execution_count": 12,
     "metadata": {},
     "output_type": "execute_result"
    }
   ],
   "source": [
    "from sklearn.linear_model import LinearRegression\n",
    "lin_reg = LinearRegression()\n",
    "lin_reg.fit(X, y)"
   ]
  },
  {
   "cell_type": "markdown",
   "metadata": {},
   "source": [
    "# Fitting polynomial regression to the dataset"
   ]
  },
  {
   "cell_type": "code",
   "execution_count": 48,
   "metadata": {},
   "outputs": [
    {
     "data": {
      "text/plain": [
       "LinearRegression(copy_X=True, fit_intercept=True, n_jobs=1, normalize=False)"
      ]
     },
     "execution_count": 48,
     "metadata": {},
     "output_type": "execute_result"
    }
   ],
   "source": [
    "from sklearn.preprocessing import PolynomialFeatures\n",
    "poly_reg = PolynomialFeatures(degree=4)\n",
    "lin_reg_2 = LinearRegression()\n",
    "lin_reg_2.fit(poly_reg.fit_transform(X), y)"
   ]
  },
  {
   "cell_type": "markdown",
   "metadata": {},
   "source": [
    "# Visualising the linear regression results"
   ]
  },
  {
   "cell_type": "code",
   "execution_count": 57,
   "metadata": {
    "collapsed": true
   },
   "outputs": [],
   "source": [
    "def linspacious(X, factor=3):\n",
    "    space = np.linspace(min(X), max(X))\n",
    "    d = space[1] - space[0]\n",
    "    space = np.concatenate([[space[0] - factor*d], space, [space[-1] + factor*d]]).reshape(-1, 1)\n",
    "    return space"
   ]
  },
  {
   "cell_type": "code",
   "execution_count": 58,
   "metadata": {},
   "outputs": [
    {
     "data": {
      "image/png": "[encoded data removed]",
      "text/plain": [
       "<matplotlib.figure.Figure at 0xdaca080>"
      ]
     },
     "metadata": {},
     "output_type": "display_data"
    }
   ],
   "source": [
    "xax = linspacious(X)\n",
    "plt.scatter(X, y, color='red')\n",
    "plt.plot(xax, lin_reg.predict(xax), color='blue')\n",
    "plt.title('Linear Regression')\n",
    "plt.xlabel('Level')\n",
    "plt.ylabel('Salary')\n",
    "plt.show()"
   ]
  },
  {
   "cell_type": "markdown",
   "metadata": {},
   "source": [
    "# Visualising the polynomial regression results"
   ]
  },
  {
   "cell_type": "code",
   "execution_count": 59,
   "metadata": {},
   "outputs": [
    {
     "data": {
      "image/png": "[encoded data removed]",
      "text/plain": [
       "<matplotlib.figure.Figure at 0xd2ba198>"
      ]
     },
     "metadata": {},
     "output_type": "display_data"
    }
   ],
   "source": [
    "plt.scatter(X, y, color='red')\n",
    "plt.plot(xax, lin_reg_2.predict(poly_reg.fit_transform(xax)), color='blue')\n",
    "plt.title('Polynomial Regression')\n",
    "plt.xlabel('Level')\n",
    "plt.ylabel('Salary')\n",
    "plt.show()"
   ]
  },
  {
   "cell_type": "markdown",
   "metadata": {},
   "source": [
    "# Predicting a new result with Linear Regression"
   ]
  },
  {
   "cell_type": "code",
   "execution_count": 50,
   "metadata": {},
   "outputs": [
    {
     "data": {
      "text/plain": [
       "array([ 330378.78787879])"
      ]
     },
     "execution_count": 50,
     "metadata": {},
     "output_type": "execute_result"
    }
   ],
   "source": [
    "lin_reg.predict(6.5)"
   ]
  },
  {
   "cell_type": "code",
   "execution_count": 52,
   "metadata": {},
   "outputs": [
    {
     "data": {
      "text/plain": [
       "array([ 158862.4526516])"
      ]
     },
     "execution_count": 52,
     "metadata": {},
     "output_type": "execute_result"
    }
   ],
   "source": [
    "lin_reg_2.predict(poly_reg.fit_transform(6.5))"
   ]
  }
 ],
 "metadata": {
  "kernelspec": {
   "display_name": "Python 3",
   "language": "python",
   "name": "python3"
  },
  "language_info": {
   "codemirror_mode": {
    "name": "ipython",
    "version": 3
   },
   "file_extension": ".py",
   "mimetype": "text/x-python",
   "name": "python",
   "nbconvert_exporter": "python",
   "pygments_lexer": "ipython3",
   "version": "3.6.2"
  }
 },
 "nbformat": 4,
 "nbformat_minor": 2
}
